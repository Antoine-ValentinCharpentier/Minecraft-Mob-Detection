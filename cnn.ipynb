{
 "cells": [
  {
   "cell_type": "markdown",
   "metadata": {},
   "source": [
    "# Convolutional Neural Network\n"
   ]
  },
  {
   "cell_type": "code",
   "execution_count": 1,
   "metadata": {},
   "outputs": [],
   "source": [
    "import os\n",
    "import pandas as pd"
   ]
  },
  {
   "cell_type": "markdown",
   "metadata": {},
   "source": [
    "## Part 0 - Prepare the dataset\n",
    "In this section, we will reorganize our dataset. \n",
    "\n",
    "Thus, we will move the images contained directly in the test, train, and valid folders into subfolders (hostile, passive) based on the nature of the creatures present in the respective image. \n",
    "\n",
    "The nature of each creature present in the image can be obtained from the _annotations.csv files present in each folder of the dataset"
   ]
  },
  {
   "cell_type": "code",
   "execution_count": 5,
   "metadata": {},
   "outputs": [],
   "source": [
    "def sort_images_dataset(path_folder):\n",
    "    \"\"\"\n",
    "    Sorts images in a dataset based on their class, moving them to separate folders.\n",
    "    If the image represents a passive creature, it will be moved to the 'passive' subfolder, otherwise, it will be moved to the 'hostile' subfolder.\n",
    "\n",
    "    Parameters:\n",
    "        - path_folder (str): Path to the folder containing the images and _annotations.csv file.\n",
    "\n",
    "    \"\"\"\n",
    "    PASSIVE_CLASS_LIST = ['chicken', 'cow', 'pig', 'sheep', 'bee', 'fox', 'frog', 'goat', 'llama', 'turtle', 'wolf']\n",
    "    annotations_path = os.path.join(path_folder, '_annotations.csv')\n",
    "    annotations_data = pd.read_csv(annotations_path)\n",
    "    \n",
    "    for filename, classe in annotations_data[['filename', 'class']].values:\n",
    "\n",
    "        img_path = os.path.join(path_folder, filename)\n",
    "        if os.path.exists(img_path):\n",
    "\n",
    "            category = \"hostile\" if classe in PASSIVE_CLASS_LIST else \"passive\"\n",
    "            category_dir = os.path.join(path_folder, category)\n",
    "\n",
    "            if not os.path.exists(category_dir):\n",
    "                os.makedirs(category_dir)\n",
    "            \n",
    "            new_img_path = os.path.join(category_dir, filename)\n",
    "            os.rename(img_path, new_img_path)\n",
    "    \n"
   ]
  },
  {
   "cell_type": "code",
   "execution_count": 6,
   "metadata": {},
   "outputs": [],
   "source": [
    "path_dataset_to_sort = ['./data/train', './data/test', './data/valid']\n",
    "for path in path_dataset_to_sort:\n",
    "    sort_images_dataset(path)"
   ]
  },
  {
   "cell_type": "code",
   "execution_count": null,
   "metadata": {},
   "outputs": [],
   "source": []
  }
 ],
 "metadata": {
  "kernelspec": {
   "display_name": ".venv",
   "language": "python",
   "name": "python3"
  },
  "language_info": {
   "codemirror_mode": {
    "name": "ipython",
    "version": 3
   },
   "file_extension": ".py",
   "mimetype": "text/x-python",
   "name": "python",
   "nbconvert_exporter": "python",
   "pygments_lexer": "ipython3",
   "version": "3.11.5"
  },
  "orig_nbformat": 4
 },
 "nbformat": 4,
 "nbformat_minor": 2
}
